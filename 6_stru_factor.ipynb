{
 "cells": [
  {
   "cell_type": "markdown",
   "metadata": {},
   "source": [
    "### Compute structure factor for $N=100$\n",
    "\n",
    "$$ I(k) = \\sum_{i=0}^N \\sum_{j=0}^N \\left\\langle \\frac{\\sin{k ||\\vec{R}_i - \\vec{R}_j||}}{k ||\\vec{R}_i - \\vec{R}_j||} \\right\\rangle$$"
   ]
  },
  {
   "cell_type": "code",
   "execution_count": 1,
   "metadata": {},
   "outputs": [],
   "source": [
    "# Library for reading simulation data\n",
    "import numpy as np\n",
    "\n",
    "# Parameters\n",
    "b=3.0\n",
    "N=100\n",
    "T=100\n",
    "\n",
    "# Coordinates arrays\n",
    "x=np.zeros((T,N+1)); y=np.zeros((T,N+1)); z=np.zeros((T,N+1))\n",
    "\n",
    "# Read simulation data\n",
    "filename='simulation_FJC_b=%.1f_N=%d_T=%d.xyz'%(b,N,T)\n",
    "with open(filename,'r') as f:\n",
    "    for t in range(T):\n",
    "        # First 2 lines unnecessary\n",
    "        lines = f.readline()\n",
    "        lines = f.readline()\n",
    "        # Save coordinates and separate in x, y, z\n",
    "        for i in range(N+1):\n",
    "            lines = f.readline()\n",
    "            coord = lines.split()\n",
    "            x[t,i]=float(coord[1])\n",
    "            y[t,i]=float(coord[2])\n",
    "            z[t,i]=float(coord[3])"
   ]
  },
  {
   "cell_type": "markdown",
   "metadata": {},
   "source": [
    "### Compute distance matrix\n",
    "$$d_{i j} = ||\\vec{R}_i - \\vec{R}_j||"
   ]
  },
  {
   "cell_type": "code",
   "execution_count": 2,
   "metadata": {},
   "outputs": [],
   "source": [
    "# Reshape arrays for broadcasting\n",
    "x_t = x.reshape(T, N+1, 1)\n",
    "y_t = y.reshape(T, N+1, 1)\n",
    "z_t = z.reshape(T, N+1, 1)\n",
    "\n",
    "# Compute squared differences\n",
    "dx = (x_t - x_t.transpose(0, 2, 1)) ** 2\n",
    "dy = (y_t - y_t.transpose(0, 2, 1)) ** 2\n",
    "dz = (z_t - z_t.transpose(0, 2, 1)) ** 2\n",
    "\n",
    "# Compute distance matrix\n",
    "d = np.sqrt(dx + dy + dz)"
   ]
  },
  {
   "cell_type": "markdown",
   "metadata": {},
   "source": [
    "## Structure factor\n",
    "\n",
    "$$ I(k) = \\sum_{i=0}^N \\sum_{j=0}^N \\left\\langle \\frac{\\sin{k ||\\vec{R}_i - \\vec{R}_j||}}{k ||\\vec{R}_i - \\vec{R}_j||} \\right\\rangle$$"
   ]
  },
  {
   "cell_type": "code",
   "execution_count": 3,
   "metadata": {},
   "outputs": [
    {
     "name": "stderr",
     "output_type": "stream",
     "text": [
      "C:\\Users\\propietario\\AppData\\Local\\Temp\\ipykernel_11828\\4194619670.py:6: RuntimeWarning: invalid value encountered in divide\n",
      "  I_k = np.mean(np.sin(k_grid * d) / (k_grid * d), axis=1)\n"
     ]
    }
   ],
   "source": [
    "# Compute structure factor\n",
    "k_grid = np.linspace(0, 0.1, 100)[1:]  # k=0 is not defined\n",
    "k_grid = k_grid[:, np.newaxis, np.newaxis, np.newaxis]  # reshape for broadcasting\n",
    "\n",
    "# Average over time\n",
    "I_k = np.mean(np.sin(k_grid * d) / (k_grid * d), axis=1)"
   ]
  },
  {
   "cell_type": "markdown",
   "metadata": {},
   "source": [
    "### Comparison with Guinier approximation\n",
    "$$I(k) = (N + 1)^2 \\left[1 - \\frac{(k R_g)^2}{3} \\right]$$"
   ]
  },
  {
   "cell_type": "code",
   "execution_count": null,
   "metadata": {},
   "outputs": [],
   "source": [
    "# Compute Guinier approximation\n",
    "Rg = np.sqrt(np.sum(d, axis=(1, 2)) / (6 * (N+1)))"
   ]
  }
 ],
 "metadata": {
  "kernelspec": {
   "display_name": "Python 3",
   "language": "python",
   "name": "python3"
  },
  "language_info": {
   "codemirror_mode": {
    "name": "ipython",
    "version": 3
   },
   "file_extension": ".py",
   "mimetype": "text/x-python",
   "name": "python",
   "nbconvert_exporter": "python",
   "pygments_lexer": "ipython3",
   "version": "3.10.10"
  }
 },
 "nbformat": 4,
 "nbformat_minor": 2
}
