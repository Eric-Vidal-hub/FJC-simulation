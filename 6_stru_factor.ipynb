{
 "cells": [
  {
   "cell_type": "markdown",
   "metadata": {},
   "source": [
    "### Compute structure factor for $N=100$\n",
    "\n",
    "$$ I(k) = \\sum_{i=0}^N \\sum_{j=0}^N \\left\\langle \\frac{\\sin{k ||\\vec{R}_i - \\vec{R}_j||}}{k ||\\vec{R}_i - \\vec{R}_j||} \\right\\rangle$$"
   ]
  },
  {
   "cell_type": "markdown",
   "metadata": {},
   "source": [
    "### Comparison with Guinier approximation\n",
    "$$I(k) = (N + 1)^2 \\left[1 - \\frac{(k R_g)^2}{3} \\right]$$"
   ]
  },
  {
   "cell_type": "code",
   "execution_count": 46,
   "metadata": {},
   "outputs": [],
   "source": [
    "# Library for reading simulation data\n",
    "import numpy as np\n",
    "import matplotlib.pyplot as plt\n",
    "\n",
    "# Parameters\n",
    "b=3.0\n",
    "N=100\n",
    "T=100\n",
    "\n",
    "# Coordinates arrays\n",
    "x=np.zeros((T,N+1)); y=np.zeros((T,N+1)); z=np.zeros((T,N+1))\n",
    "\n",
    "# Read simulation data\n",
    "filename='simulation_FJC_b=%.1f_N=%d_T=%d.xyz'%(b,N,T)\n",
    "with open(filename,'r') as f:\n",
    "    for T in range(T):\n",
    "        # First 2 lines unnecessary\n",
    "        lines = f.readline()\n",
    "        lines = f.readline()\n",
    "        # Save coordinates and separate in x, y, z\n",
    "        for i in range(N+1):\n",
    "            lines = f.readline()\n",
    "            coord = lines.split()\n",
    "            x[T,i]=float(coord[1])\n",
    "            y[T,i]=float(coord[2])\n",
    "            z[T,i]=float(coord[3])"
   ]
  },
  {
   "cell_type": "markdown",
   "metadata": {},
   "source": [
    "### Matrix computation"
   ]
  },
  {
   "cell_type": "code",
   "execution_count": 47,
   "metadata": {},
   "outputs": [
    {
     "name": "stderr",
     "output_type": "stream",
     "text": [
      "C:\\Users\\propietario\\AppData\\Local\\Temp\\ipykernel_13940\\2804525873.py:15: RuntimeWarning: invalid value encountered in divide\n",
      "  I[l] += 2 * np.mean(np.sin(arg) / arg)\n"
     ]
    }
   ],
   "source": [
    "# Variables declaration\n",
    "step = 0.01\n",
    "k = np.arange(0, 0.2, step)     # k moment range\n",
    "I = np.ones(len(k)) * (N+1)     # Intensity, I(k)\n",
    "# with diagonal elements already included i=j\n",
    "Rg2 = b**2 * N / 6              # Radius of gyration squared\n",
    "Guinier = (N + 1)**2 * (1 - k**2 * Rg2/3)    # Guinier approximation\n",
    "\n",
    "# Structure factor calculation\n",
    "for l in range(len(k)):\n",
    "    for i in range(N + 1):\n",
    "        for j in range(N + 1):\n",
    "            if j > i:   # Only upper triangular matrix\n",
    "                arg = k[l] * np.sqrt((x[:, i]-x[:, j])**2 + (y[:, i]-y[:, j])**2 + (z[:, i]-z[:, j])**2)\n",
    "                I[l] += 2 * np.mean(np.sin(arg) / arg)"
   ]
  },
  {
   "cell_type": "markdown",
   "metadata": {},
   "source": [
    "### Plot"
   ]
  },
  {
   "cell_type": "code",
   "execution_count": 48,
   "metadata": {},
   "outputs": [
    {
     "data": {
      "image/png": "[encoded data removed]",
      "text/plain": [
       "<Figure size 640x480 with 1 Axes>"
      ]
     },
     "metadata": {},
     "output_type": "display_data"
    }
   ],
   "source": [
    "k = np.arange(0, 0.2, step)\n",
    "\n",
    "plt.rc('text', usetex=True)\n",
    "plt.rc('font', family='serif')\n",
    "\n",
    "plt.figure()\n",
    "plt.plot(k, Guinier, 'b-', label=r'Guinier Approximation')\n",
    "plt.plot(k, I, 'rx', label=r'Numerical Results')\n",
    "plt.xlim(0, 0.2)\n",
    "# plt.ylim(-1.1, 1.1)\n",
    "plt.legend([r'Guinier Approximation', r'Numerical Results'])\n",
    "plt.xlabel(r'$k$', fontsize=18)\n",
    "plt.ylabel(r'$I(k)$', fontsize=18)\n",
    "plt.tick_params(axis='y', which='major', labelsize=16, direction='in')\n",
    "plt.tick_params(axis='x', which='major', labelsize=16, direction='in')\n",
    "plt.show()"
   ]
  }
 ],
 "metadata": {
  "kernelspec": {
   "display_name": "Python 3",
   "language": "python",
   "name": "python3"
  },
  "language_info": {
   "codemirror_mode": {
    "name": "ipython",
    "version": 3
   },
   "file_extension": ".py",
   "mimetype": "text/x-python",
   "name": "python",
   "nbconvert_exporter": "python",
   "pygments_lexer": "ipython3",
   "version": "3.10.10"
  }
 },
 "nbformat": 4,
 "nbformat_minor": 2
}
