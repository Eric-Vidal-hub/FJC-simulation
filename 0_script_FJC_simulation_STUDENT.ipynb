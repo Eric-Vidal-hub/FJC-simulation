{
 "cells": [
  {
   "cell_type": "markdown",
   "metadata": {},
   "source": [
    "## Numerical simulations of ideal chain model of polymer\n",
    "\n",
    "The **freely-jointed chain** (FJC) model consist of a chain of bonds: the orientation of the different bonds is completely uncorrelated and no direction is preferred.\n",
    "\n",
    "- One measure of extent is the **end-to-end vector**, $\\vec{Q}$\n",
    "$$ \\vec{Q} = \\vec{r_N} - \\vec{r_0}$$\n",
    "And its **mean squared value**\n",
    "$$ \\langle Q^2 \\rangle = N b^2 + \\sum_{i \\neq j}^N b^2 \\langle \\cos{\\theta_{ij}} \\rangle $$\n",
    "\n",
    "There is **no correlation** between the segments: angle between 2 bond vectors $\\theta_{ij} (= 180 - \\tau_{ij})$ can have all values, therfore,\n",
    "$$\\langle \\cos{\\theta_{ij}} \\rangle = 0$$\n",
    "\n",
    "- Apart from that, there is the probability distribution end-to-end distance too\n",
    "$$P(\\vec{Q}) = \\left( \\frac{3}{2 \\pi N b^2} \\right)^{3/2} \\exp{-\\frac{3 Q^2}{2 N b^2}}$$\n",
    "with $N \\xrightarrow{} \\infty$.\n",
    "\n",
    "- On another hand, we have the radius of gyration, $R_g$, which accounts for the position of all the monomers\n",
    "$$R_g^2 = \\frac{1}{N} \\sum_{i=0}^N (\\vec{r}_i - \\vec{R}_{CM})^2 $$\n",
    "where $\\vec{r}_i$ is the position of the monomer, and $\\vec{R}_{CM} = \\frac{1}{N} \\sum_{i=0}^N \\vec{r}_i$ is the position of the center mass (CM).\n",
    "\n",
    "- Then we can define another characteristic quantity, the mean square radius of gyration,\n",
    "$$ \\langle R_g^2 \\rangle = \\frac{N b^2}{6} $$\n",
    "with $N \\xrightarrow{} \\infty$."
   ]
  },
  {
   "cell_type": "markdown",
   "metadata": {},
   "source": [
    "## Simulation in Python\n",
    "We first initialize the parameters."
   ]
  },
  {
   "cell_type": "code",
   "execution_count": 13,
   "metadata": {},
   "outputs": [],
   "source": [
    "# Library\n",
    "import numpy as np\n",
    "\n",
    "# Parameters\n",
    "b = 3.0         # bond length\n",
    "N = 100           # number of bonds\n",
    "T = 100      # Number of conformations"
   ]
  },
  {
   "cell_type": "markdown",
   "metadata": {},
   "source": [
    "Then we create a random trajectory $\\vec{r} = (x, y, z) = \\sum_{i=0}^{N-1} \\vec{b}_i$ using this **N** aleatory vectors $\\vec{b} = \\vec{r}_{i+1} - \\vec{r}_i$. Thus we obtain **N+1** monomers coordinates $\\vec{r}_i$ where $i=0, 1, \\ldots, N$."
   ]
  },
  {
   "cell_type": "code",
   "execution_count": 14,
   "metadata": {},
   "outputs": [],
   "source": [
    "# Define the matrices containing the trajectory coordinates\n",
    "x=np.zeros((T,N+1)); y=np.zeros((T,N+1)); z=np.zeros((T,N+1))\n",
    "\n",
    "# Loop for conformations\n",
    "for t in range(T):\n",
    "    # Generate the random walk\n",
    "    bx=np.random.uniform(-1,1,10*N)\n",
    "    by=np.random.uniform(-1,1,10*N)\n",
    "    bz=np.random.uniform(-1,1,10*N)\n",
    "    normb=np.sqrt(bx**2+by**2+bz**2)    # Trajectory norm\n",
    "    \n",
    "    # Ignore and normalize the points further than normb\n",
    "    idb=np.where(normb<=1)[0][0:N]\n",
    "    bx=bx[idb]/normb[idb]\n",
    "    by=by[idb]/normb[idb]\n",
    "    bz=bz[idb]/normb[idb]\n",
    "    \n",
    "    # Compute the trajectory\n",
    "    vb=b*np.array([bx,by,bz])   \n",
    "    x[t,1:]=np.cumsum(vb[0])\n",
    "    y[t,1:]=np.cumsum(vb[1])\n",
    "    z[t,1:]=np.cumsum(vb[2])"
   ]
  },
  {
   "cell_type": "markdown",
   "metadata": {},
   "source": [
    "Once the trajectory is computed, we write it in a file,"
   ]
  },
  {
   "cell_type": "code",
   "execution_count": 15,
   "metadata": {},
   "outputs": [],
   "source": [
    "filename='simulation_FJC_b=%.1f_N=%d_T=%d.xyz'%(b,N,T)\n",
    "with open(filename,'w') as f:\n",
    "    for t in range(T):\n",
    "        f.write('%d\\n'%(N+1))\n",
    "        f.write('t=%d\\n'%t)\n",
    "        for n in range(N+1):\n",
    "            f.write('C %8.3f %8.3f %8.3f\\n'%(x[t,n],y[t,n],z[t,n]))"
   ]
  },
  {
   "cell_type": "markdown",
   "metadata": {},
   "source": [
    "which is written the following way:\n",
    "\n",
    "line1 `nb monomer`\n",
    "\n",
    "line2 `t conformation`\n",
    "\n",
    "line3 `C` x0 y0 z0\n",
    "\n",
    ".\n",
    ".\n",
    ".\n",
    "\n",
    "lineN+1 `C` xN yN zN"
   ]
  }
 ],
 "metadata": {
  "kernelspec": {
   "display_name": "Python 3 (ipykernel)",
   "language": "python",
   "name": "python3"
  },
  "language_info": {
   "codemirror_mode": {
    "name": "ipython",
    "version": 3
   },
   "file_extension": ".py",
   "mimetype": "text/x-python",
   "name": "python",
   "nbconvert_exporter": "python",
   "pygments_lexer": "ipython3",
   "version": "3.10.10"
  }
 },
 "nbformat": 4,
 "nbformat_minor": 4
}
